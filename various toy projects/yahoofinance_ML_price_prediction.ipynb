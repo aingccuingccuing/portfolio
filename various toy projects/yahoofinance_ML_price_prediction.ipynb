{
  "nbformat": 4,
  "nbformat_minor": 0,
  "metadata": {
    "colab": {
      "provenance": []
    },
    "kernelspec": {
      "name": "python3",
      "display_name": "Python 3"
    },
    "language_info": {
      "name": "python"
    }
  },
  "cells": [
    {
      "cell_type": "code",
      "execution_count": null,
      "metadata": {
        "colab": {
          "base_uri": "https://localhost:8080/"
        },
        "id": "pm_RRvyH4_lE",
        "outputId": "d5bd9b69-978b-4bb9-c536-11c2459e75cd"
      },
      "outputs": [
        {
          "output_type": "stream",
          "name": "stdout",
          "text": [
            "Requirement already satisfied: pandas-datareader in /usr/local/lib/python3.10/dist-packages (0.10.0)\n",
            "Requirement already satisfied: lxml in /usr/local/lib/python3.10/dist-packages (from pandas-datareader) (4.9.4)\n",
            "Requirement already satisfied: pandas>=0.23 in /usr/local/lib/python3.10/dist-packages (from pandas-datareader) (1.5.3)\n",
            "Requirement already satisfied: requests>=2.19.0 in /usr/local/lib/python3.10/dist-packages (from pandas-datareader) (2.31.0)\n",
            "Requirement already satisfied: python-dateutil>=2.8.1 in /usr/local/lib/python3.10/dist-packages (from pandas>=0.23->pandas-datareader) (2.8.2)\n",
            "Requirement already satisfied: pytz>=2020.1 in /usr/local/lib/python3.10/dist-packages (from pandas>=0.23->pandas-datareader) (2023.4)\n",
            "Requirement already satisfied: numpy>=1.21.0 in /usr/local/lib/python3.10/dist-packages (from pandas>=0.23->pandas-datareader) (1.25.2)\n",
            "Requirement already satisfied: charset-normalizer<4,>=2 in /usr/local/lib/python3.10/dist-packages (from requests>=2.19.0->pandas-datareader) (3.3.2)\n",
            "Requirement already satisfied: idna<4,>=2.5 in /usr/local/lib/python3.10/dist-packages (from requests>=2.19.0->pandas-datareader) (3.6)\n",
            "Requirement already satisfied: urllib3<3,>=1.21.1 in /usr/local/lib/python3.10/dist-packages (from requests>=2.19.0->pandas-datareader) (2.0.7)\n",
            "Requirement already satisfied: certifi>=2017.4.17 in /usr/local/lib/python3.10/dist-packages (from requests>=2.19.0->pandas-datareader) (2024.2.2)\n",
            "Requirement already satisfied: six>=1.5 in /usr/local/lib/python3.10/dist-packages (from python-dateutil>=2.8.1->pandas>=0.23->pandas-datareader) (1.16.0)\n"
          ]
        }
      ],
      "source": [
        "pip install pandas-datareader"
      ]
    },
    {
      "cell_type": "code",
      "source": [
        "import numpy as np\n",
        "import matplotlib.pyplot as plt\n",
        "import pandas as pd\n",
        "from pandas_datareader import data as pdr\n",
        "import datetime as dt\n",
        "\n",
        "import yfinance as yf\n",
        "yf.pdr_override()\n",
        "\n",
        "#Neural Network는 0~1 혹은 -1~1 로 데이터를 scaling 하는 것이 좋다\n",
        "from sklearn.preprocessing import MinMaxScaler\n",
        "from tensorflow.keras.layers import Dense, Dropout, LSTM\n",
        "from tensorflow.keras.models import Sequential\n",
        "\n",
        "crypto_currency = 'BTC'\n",
        "against_currency = 'USD'\n",
        "\n",
        "start = dt.datetime(2016, 1, 1)\n",
        "end = dt.datetime.now()\n",
        "\n",
        "data = pdr.get_data_yahoo('BTC-USD', start, end)\n",
        "\n",
        "print(data.head())"
      ],
      "metadata": {
        "colab": {
          "base_uri": "https://localhost:8080/"
        },
        "id": "vcyYFBkk5FQi",
        "outputId": "fc89a451-2da7-4b75-dac3-3760bb1e2832"
      },
      "execution_count": null,
      "outputs": [
        {
          "output_type": "stream",
          "name": "stderr",
          "text": [
            "\r[*********************100%%**********************]  1 of 1 completed"
          ]
        },
        {
          "output_type": "stream",
          "name": "stdout",
          "text": [
            "                  Open        High         Low       Close   Adj Close  \\\n",
            "Date                                                                     \n",
            "2016-01-01  430.721008  436.246002  427.515015  434.334015  434.334015   \n",
            "2016-01-02  434.622009  436.062012  431.869995  433.437988  433.437988   \n",
            "2016-01-03  433.578003  433.743011  424.705994  430.010986  430.010986   \n",
            "2016-01-04  430.061005  434.516998  429.084015  433.091003  433.091003   \n",
            "2016-01-05  433.069000  434.182007  429.675995  431.959991  431.959991   \n",
            "\n",
            "              Volume  \n",
            "Date                  \n",
            "2016-01-01  36278900  \n",
            "2016-01-02  30096600  \n",
            "2016-01-03  39633800  \n",
            "2016-01-04  38477500  \n",
            "2016-01-05  34522600  \n"
          ]
        },
        {
          "output_type": "stream",
          "name": "stderr",
          "text": [
            "\n"
          ]
        }
      ]
    },
    {
      "cell_type": "code",
      "source": [
        "#특정 60일을 활용해서 train할 것인데, 이걸 상승장? 매크로가 유사한 상황으로 학습 시켜보자\n",
        "\n",
        "scaler = MinMaxScaler(feature_range=(0,1))\n",
        "scaled_data = scaler.fit_transform(data['Close'].values.reshape(-1,1))\n",
        "\n",
        "prediction_days = 60\n",
        "future_day = 30\n",
        "\n",
        "x_train, y_train = [], []\n",
        "\n",
        "for x in range(prediction_days, len(scaled_data)-future_day):\n",
        "    #x를 제외한 날짜\n",
        "    x_train.append(scaled_data[x-prediction_days:x, 0])\n",
        "    #x날짜\n",
        "    y_train.append(scaled_data[x+future_day, 0])\n",
        "\n",
        "#numpy array로 변환\n",
        "x_train, y_train = np.array(x_train), np.array(y_train)\n",
        "\n",
        "#형태변환, additional dimention 을 더해준다, shape[0] 원래 x축, shape[1] 원래 y축, 1로 새로운 3차원으로 만들어줌. 3차원의 길이가 1 이다.\n",
        "x_train = np.reshape(x_train, (x_train.shape[0], x_train.shape[1], 1))"
      ],
      "metadata": {
        "id": "NQEKlAJG_Yj9"
      },
      "execution_count": null,
      "outputs": []
    },
    {
      "cell_type": "code",
      "source": [
        "#1일차 2일차 등 sequential하다. 시계열 데이터?\n",
        "model = Sequential()\n",
        "\n",
        "#LSTM은 Sequential 데이터의 중요한 요소들을 다시 layer에 넣어준다\n",
        "model.add(LSTM(units=50, return_sequences=True, input_shape=(x_train.shape[1], 1)))\n",
        "\n",
        "model.add(Dropout(0.2))\n",
        "#dropout은 overfitting 방지용\n",
        "\n",
        "model.add(LSTM(units=50, return_sequences=True))\n",
        "model.add(Dropout(0.2))\n",
        "\n",
        "model.add(LSTM(units=50))\n",
        "model.add(Dropout(0.2))\n",
        "\n",
        "model.add(Dense(units=1))\n",
        "\n",
        "\n",
        "model.compile(optimizer='adam', loss='mean_squared_error')\n",
        "model.fit(x_train, y_train, epochs=25, batch_size=32)"
      ],
      "metadata": {
        "colab": {
          "base_uri": "https://localhost:8080/"
        },
        "id": "uNa6xUGWBPMv",
        "outputId": "31befe6b-2558-4710-eccc-468d3bb541d1"
      },
      "execution_count": null,
      "outputs": [
        {
          "output_type": "stream",
          "name": "stdout",
          "text": [
            "Epoch 1/25\n",
            "91/91 [==============================] - 14s 93ms/step - loss: 0.0117\n",
            "Epoch 2/25\n",
            "91/91 [==============================] - 7s 81ms/step - loss: 0.0084\n",
            "Epoch 3/25\n",
            "91/91 [==============================] - 8s 92ms/step - loss: 0.0069\n",
            "Epoch 4/25\n",
            "91/91 [==============================] - 8s 83ms/step - loss: 0.0077\n",
            "Epoch 5/25\n",
            "91/91 [==============================] - 8s 90ms/step - loss: 0.0069\n",
            "Epoch 6/25\n",
            "91/91 [==============================] - 8s 93ms/step - loss: 0.0066\n",
            "Epoch 7/25\n",
            "91/91 [==============================] - 7s 81ms/step - loss: 0.0064\n",
            "Epoch 8/25\n",
            "91/91 [==============================] - 8s 93ms/step - loss: 0.0062\n",
            "Epoch 9/25\n",
            "91/91 [==============================] - 8s 93ms/step - loss: 0.0057\n",
            "Epoch 10/25\n",
            "91/91 [==============================] - 8s 83ms/step - loss: 0.0056\n",
            "Epoch 11/25\n",
            "91/91 [==============================] - 9s 94ms/step - loss: 0.0053\n",
            "Epoch 12/25\n",
            "91/91 [==============================] - 8s 91ms/step - loss: 0.0054\n",
            "Epoch 13/25\n",
            "91/91 [==============================] - 8s 84ms/step - loss: 0.0053\n",
            "Epoch 14/25\n",
            "91/91 [==============================] - 9s 95ms/step - loss: 0.0053\n",
            "Epoch 15/25\n",
            "91/91 [==============================] - 8s 84ms/step - loss: 0.0051\n",
            "Epoch 16/25\n",
            "91/91 [==============================] - 8s 91ms/step - loss: 0.0052\n",
            "Epoch 17/25\n",
            "91/91 [==============================] - 9s 95ms/step - loss: 0.0054\n",
            "Epoch 18/25\n",
            "91/91 [==============================] - 9s 98ms/step - loss: 0.0055\n",
            "Epoch 19/25\n",
            "91/91 [==============================] - 8s 90ms/step - loss: 0.0052\n",
            "Epoch 20/25\n",
            "91/91 [==============================] - 8s 93ms/step - loss: 0.0053\n",
            "Epoch 21/25\n",
            "91/91 [==============================] - 7s 82ms/step - loss: 0.0051\n",
            "Epoch 22/25\n",
            "91/91 [==============================] - 9s 95ms/step - loss: 0.0051\n",
            "Epoch 23/25\n",
            "91/91 [==============================] - 9s 94ms/step - loss: 0.0050\n",
            "Epoch 24/25\n",
            "91/91 [==============================] - 7s 82ms/step - loss: 0.0051\n",
            "Epoch 25/25\n",
            "91/91 [==============================] - 9s 95ms/step - loss: 0.0047\n"
          ]
        },
        {
          "output_type": "execute_result",
          "data": {
            "text/plain": [
              "<keras.src.callbacks.History at 0x784b4e564400>"
            ]
          },
          "metadata": {},
          "execution_count": 34
        }
      ]
    },
    {
      "cell_type": "code",
      "source": [
        "test_start= dt.datetime(2020,9,1)\n",
        "test_end = dt.datetime(2021, 5, 28)\n",
        "\n",
        "test_data = pdr.get_data_yahoo('BTC-USD', test_start, test_end)\n",
        "\n",
        "#종가를 test로 가져온다\n",
        "actual_prices = test_data['Close'].values\n",
        "\n",
        "#total에 위의 test도 가져온다\n",
        "total_dataset = pd.concat((data['Close'], test_data['Close']), axis=0)\n",
        "\n",
        "print(total_dataset.head())\n",
        "print(total_dataset.shape)\n",
        "\n",
        "model_inputs = total_dataset[len(total_dataset) - len(test_data) - prediction_days:].values\n",
        "print(model_inputs.shape)\n",
        "\n",
        "model_inputs = model_inputs.reshape(-1,1)\n",
        "model_inputs = scaler.fit_transform(model_inputs)\n",
        "\n",
        "x_test = []\n",
        "\n",
        "for x in range(prediction_days, len(model_inputs)):\n",
        "    x_test.append(model_inputs[x-prediction_days:x, 0])\n",
        "\n",
        "x_test = np.array(x_test)\n",
        "x_test = np.reshape(x_test, (x_test.shape[0], x_test.shape[1], 1))\n",
        "\n",
        "prediction_prices = model.predict(x_test)\n",
        "\n",
        "#inverse scale them\n",
        "\n",
        "prediction_prices = scaler.inverse_transform(prediction_prices)\n",
        "\n",
        "print(prediction_prices)"
      ],
      "metadata": {
        "colab": {
          "base_uri": "https://localhost:8080/"
        },
        "id": "mJD9H2_hCQWv",
        "outputId": "97ff6bf0-b1d0-42ba-b5db-e15f047ffea9"
      },
      "execution_count": null,
      "outputs": [
        {
          "output_type": "stream",
          "name": "stderr",
          "text": [
            "\r[*********************100%%**********************]  1 of 1 completed"
          ]
        },
        {
          "output_type": "stream",
          "name": "stdout",
          "text": [
            "Date\n",
            "2016-01-01    434.334015\n",
            "2016-01-02    433.437988\n",
            "2016-01-03    430.010986\n",
            "2016-01-04    433.091003\n",
            "2016-01-05    431.959991\n",
            "Name: Close, dtype: float64\n",
            "(3263,)\n",
            "(329,)\n",
            "\r1/9 [==>...........................] - ETA: 0s"
          ]
        },
        {
          "output_type": "stream",
          "name": "stderr",
          "text": [
            "\n"
          ]
        },
        {
          "output_type": "stream",
          "name": "stdout",
          "text": [
            "9/9 [==============================] - 0s 39ms/step\n",
            "[[63401.6   ]\n",
            " [59876.88  ]\n",
            " [55171.51  ]\n",
            " [50180.85  ]\n",
            " [45345.58  ]\n",
            " [40850.664 ]\n",
            " [36767.    ]\n",
            " [33100.312 ]\n",
            " [29816.727 ]\n",
            " [26884.879 ]\n",
            " [24275.36  ]\n",
            " [21955.783 ]\n",
            " [19886.521 ]\n",
            " [18015.992 ]\n",
            " [16317.985 ]\n",
            " [14765.175 ]\n",
            " [13341.101 ]\n",
            " [12028.931 ]\n",
            " [10820.067 ]\n",
            " [ 9726.438 ]\n",
            " [ 8752.156 ]\n",
            " [ 7881.086 ]\n",
            " [ 7129.9814]\n",
            " [ 6504.9614]\n",
            " [ 6056.494 ]\n",
            " [ 5803.551 ]\n",
            " [ 5750.1455]\n",
            " [ 5881.8506]\n",
            " [ 6169.6733]\n",
            " [ 6580.529 ]\n",
            " [ 7073.498 ]\n",
            " [ 7603.728 ]\n",
            " [ 8122.261 ]\n",
            " [ 8612.987 ]\n",
            " [ 9057.493 ]\n",
            " [ 9459.753 ]\n",
            " [ 9804.709 ]\n",
            " [10095.587 ]\n",
            " [10348.714 ]\n",
            " [10581.557 ]\n",
            " [10808.728 ]\n",
            " [11033.566 ]\n",
            " [11257.774 ]\n",
            " [11462.673 ]\n",
            " [11634.07  ]\n",
            " [11768.721 ]\n",
            " [11855.111 ]\n",
            " [11896.169 ]\n",
            " [11910.835 ]\n",
            " [11925.657 ]\n",
            " [11960.861 ]\n",
            " [12074.035 ]\n",
            " [12272.307 ]\n",
            " [12526.478 ]\n",
            " [12808.087 ]\n",
            " [13080.294 ]\n",
            " [13318.827 ]\n",
            " [13546.679 ]\n",
            " [13737.263 ]\n",
            " [13888.045 ]\n",
            " [14005.433 ]\n",
            " [14107.588 ]\n",
            " [14194.938 ]\n",
            " [14253.037 ]\n",
            " [14305.084 ]\n",
            " [14369.855 ]\n",
            " [14542.375 ]\n",
            " [14823.586 ]\n",
            " [15122.781 ]\n",
            " [15427.557 ]\n",
            " [15705.691 ]\n",
            " [15932.489 ]\n",
            " [16125.101 ]\n",
            " [16325.151 ]\n",
            " [16536.934 ]\n",
            " [16729.104 ]\n",
            " [16875.123 ]\n",
            " [17018.527 ]\n",
            " [17230.61  ]\n",
            " [17519.643 ]\n",
            " [17853.896 ]\n",
            " [18247.113 ]\n",
            " [18668.934 ]\n",
            " [19057.236 ]\n",
            " [19373.883 ]\n",
            " [19655.262 ]\n",
            " [19878.914 ]\n",
            " [19925.516 ]\n",
            " [19788.656 ]\n",
            " [19558.205 ]\n",
            " [19331.24  ]\n",
            " [19253.25  ]\n",
            " [19288.277 ]\n",
            " [19421.764 ]\n",
            " [19635.033 ]\n",
            " [19837.953 ]\n",
            " [20021.406 ]\n",
            " [20190.008 ]\n",
            " [20328.268 ]\n",
            " [20368.404 ]\n",
            " [20323.621 ]\n",
            " [20200.764 ]\n",
            " [20012.875 ]\n",
            " [19841.69  ]\n",
            " [19745.227 ]\n",
            " [19739.13  ]\n",
            " [19820.    ]\n",
            " [20095.91  ]\n",
            " [20652.959 ]\n",
            " [21448.48  ]\n",
            " [22417.57  ]\n",
            " [23407.1   ]\n",
            " [24247.135 ]\n",
            " [24938.16  ]\n",
            " [25431.75  ]\n",
            " [25765.344 ]\n",
            " [26036.898 ]\n",
            " [26408.54  ]\n",
            " [26871.785 ]\n",
            " [27433.498 ]\n",
            " [28055.537 ]\n",
            " [28785.188 ]\n",
            " [29574.725 ]\n",
            " [30370.988 ]\n",
            " [31323.371 ]\n",
            " [32427.334 ]\n",
            " [33500.047 ]\n",
            " [34586.914 ]\n",
            " [35856.7   ]\n",
            " [37439.55  ]\n",
            " [39300.125 ]\n",
            " [41160.582 ]\n",
            " [42626.074 ]\n",
            " [43343.168 ]\n",
            " [43241.594 ]\n",
            " [42817.727 ]\n",
            " [42458.207 ]\n",
            " [42079.254 ]\n",
            " [41647.11  ]\n",
            " [41164.82  ]\n",
            " [40749.492 ]\n",
            " [40398.906 ]\n",
            " [40082.562 ]\n",
            " [39426.668 ]\n",
            " [38646.625 ]\n",
            " [37803.062 ]\n",
            " [37007.965 ]\n",
            " [36340.777 ]\n",
            " [35854.844 ]\n",
            " [35384.99  ]\n",
            " [35153.508 ]\n",
            " [35247.414 ]\n",
            " [35605.02  ]\n",
            " [36023.03  ]\n",
            " [36432.473 ]\n",
            " [36947.555 ]\n",
            " [37700.37  ]\n",
            " [38566.707 ]\n",
            " [39524.184 ]\n",
            " [40564.418 ]\n",
            " [41549.906 ]\n",
            " [43028.12  ]\n",
            " [44913.637 ]\n",
            " [46774.633 ]\n",
            " [48623.496 ]\n",
            " [50249.473 ]\n",
            " [51485.137 ]\n",
            " [52439.617 ]\n",
            " [53054.293 ]\n",
            " [53476.453 ]\n",
            " [54009.484 ]\n",
            " [54585.203 ]\n",
            " [55501.21  ]\n",
            " [56628.3   ]\n",
            " [57889.152 ]\n",
            " [58785.387 ]\n",
            " [58801.773 ]\n",
            " [58230.41  ]\n",
            " [57149.586 ]\n",
            " [55795.707 ]\n",
            " [54409.79  ]\n",
            " [53096.418 ]\n",
            " [52320.457 ]\n",
            " [52003.613 ]\n",
            " [52225.37  ]\n",
            " [52678.58  ]\n",
            " [53234.383 ]\n",
            " [53782.746 ]\n",
            " [54440.562 ]\n",
            " [55214.484 ]\n",
            " [56205.87  ]\n",
            " [57351.65  ]\n",
            " [58606.504 ]\n",
            " [59722.582 ]\n",
            " [60877.656 ]\n",
            " [61739.383 ]\n",
            " [61960.785 ]\n",
            " [61740.855 ]\n",
            " [61403.547 ]\n",
            " [60966.03  ]\n",
            " [60535.99  ]\n",
            " [60148.016 ]\n",
            " [59763.09  ]\n",
            " [59201.5   ]\n",
            " [58572.273 ]\n",
            " [57840.324 ]\n",
            " [57046.29  ]\n",
            " [56505.727 ]\n",
            " [56267.508 ]\n",
            " [56249.164 ]\n",
            " [56452.285 ]\n",
            " [56809.27  ]\n",
            " [57166.56  ]\n",
            " [57414.758 ]\n",
            " [57499.176 ]\n",
            " [57289.52  ]\n",
            " [56903.074 ]\n",
            " [56402.492 ]\n",
            " [55781.656 ]\n",
            " [54987.363 ]\n",
            " [54218.773 ]\n",
            " [53520.055 ]\n",
            " [52954.105 ]\n",
            " [52501.777 ]\n",
            " [52116.97  ]\n",
            " [51908.25  ]\n",
            " [51777.188 ]\n",
            " [51671.914 ]\n",
            " [51465.074 ]\n",
            " [51145.195 ]\n",
            " [50596.54  ]\n",
            " [49901.22  ]\n",
            " [49222.484 ]\n",
            " [48513.79  ]\n",
            " [47773.703 ]\n",
            " [47037.227 ]\n",
            " [46331.934 ]\n",
            " [45689.54  ]\n",
            " [45300.66  ]\n",
            " [45173.582 ]\n",
            " [45219.223 ]\n",
            " [45303.434 ]\n",
            " [45540.543 ]\n",
            " [45843.316 ]\n",
            " [46105.31  ]\n",
            " [46300.242 ]\n",
            " [46286.215 ]\n",
            " [46264.543 ]\n",
            " [46227.17  ]\n",
            " [46213.78  ]\n",
            " [46276.617 ]\n",
            " [46360.555 ]\n",
            " [46357.023 ]\n",
            " [46306.87  ]\n",
            " [45981.125 ]\n",
            " [45493.68  ]\n",
            " [44966.535 ]\n",
            " [44390.17  ]\n",
            " [43829.7   ]\n",
            " [43235.766 ]\n",
            " [42651.1   ]\n",
            " [41930.74  ]\n",
            " [41277.824 ]\n",
            " [40630.76  ]\n",
            " [40042.105 ]\n",
            " [39438.508 ]\n",
            " [38991.324 ]\n",
            " [38717.742 ]\n",
            " [38616.5   ]]\n"
          ]
        }
      ]
    },
    {
      "cell_type": "code",
      "source": [
        "plt.plot(actual_prices, color='black', label='Actual Prices')\n",
        "plt.plot(prediction_prices, color = 'green', label = 'Predicted Prices')\n",
        "plt.title(f'{crypto_currency} price prediction')\n",
        "plt.xlabel('Time')\n",
        "plt.xticks([i for i in range(0,300,30)])\n",
        "plt.ylabel('Price')\n",
        "plt.legend(loc='upper left')\n",
        "plt.show()\n",
        "\n",
        "#걍 60일 보고 하루 찍고, 60일 보고 하루 찍은 거임\n",
        "#이전 prediction을 보고 그 다음 날을 찍게 만들어야 됨\n",
        "\n",
        "#걍 past performance를 본 것이다"
      ],
      "metadata": {
        "colab": {
          "base_uri": "https://localhost:8080/",
          "height": 319
        },
        "id": "1SIRl37tIO2S",
        "outputId": "051c54aa-56df-4b20-a647-f53cf6360769"
      },
      "execution_count": null,
      "outputs": [
        {
          "output_type": "display_data",
          "data": {
            "text/plain": [
              "<Figure size 640x480 with 1 Axes>"
            ],
            "image/png": "[encoded data removed]"
          },
          "metadata": {}
        }
      ]
    },
    {
      "cell_type": "markdown",
      "source": [
        "이제 실제로 prediction해보자"
      ],
      "metadata": {
        "id": "9Ez2nkZ2JZK-"
      }
    },
    {
      "cell_type": "code",
      "source": [
        "real_data = [model_inputs[len(model_inputs) + 1 - prediction_days:len(model_inputs)+1, 0]]\n",
        "real_data = np.array(real_data)\n",
        "real_data = np.reshape(real_data, (real_data.shape[0], real_data.shape[1], 1))"
      ],
      "metadata": {
        "id": "0_qgMspVJCQS"
      },
      "execution_count": null,
      "outputs": []
    },
    {
      "cell_type": "code",
      "source": [
        "prediction = model.predict(real_data)\n",
        "prediction = scaler.inverse_transform(prediction)\n",
        "print(prediction)"
      ],
      "metadata": {
        "colab": {
          "base_uri": "https://localhost:8080/"
        },
        "id": "SGON3umABoH5",
        "outputId": "be399a80-b2fc-4d40-8a59-02e0d9b2daa2"
      },
      "execution_count": null,
      "outputs": [
        {
          "output_type": "stream",
          "name": "stdout",
          "text": [
            "1/1 [==============================] - 0s 72ms/step\n",
            "[[71545.75]]\n"
          ]
        }
      ]
    },
    {
      "cell_type": "markdown",
      "source": [
        "비슷한 매크로 상황이었을 때를 가정하고, 일단위로 60일 대신 30분 혹은 1시간 단위로 학습 시키고, 30시간 뒤 등을 가정하고 그 가격보다 낮을 경우 매입 하는 등을 시도할 수 있다.\n",
        "\n",
        "Backtesting을 해보자"
      ],
      "metadata": {
        "id": "Q_w8DboBK_Pq"
      }
    }
  ]
}