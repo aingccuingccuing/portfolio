{
  "cells": [
    {
      "cell_type": "markdown",
      "metadata": {
        "id": "tlpe8hwWi-So"
      },
      "source": [
        "# Optimizing Dynamic Pricing with Reinforcement Learning\n",
        "\n",
        "- **Deep Deterministic Policy Gradient (DDPG)** algorithm: to optimize prices and discounts, pricing decisions\n",
        "- **Shapley Additive Explanations (SHAP)** : analytical tool to interpret the result to figure the impact of price, discount, and sales"
      ]
    },
    {
      "cell_type": "markdown",
      "metadata": {
        "id": "mjeIH0DJi-Sp"
      },
      "source": [
        "## Problem Definition in RL\n",
        "\n",
        "- Environment: The Market\n",
        "- Agent: Pricing Model\n",
        "- Objective: Optimize sales and profits by dynamical adjustment"
      ]
    },
    {
      "cell_type": "markdown",
      "metadata": {
        "id": "lZstNZoci-Sp"
      },
      "source": [
        "## DDPG\n",
        "\n",
        "- combines policy-based and value-based learning\n",
        "\n",
        "### Policy-Based Learning: uses actor-network or policy function\n",
        "\n",
        "$$ \\pi (s | \\theta ^ \\pi) $$\n",
        "\n",
        "given a state $s$, $\\theta ^ \\pi$ are the parameters of the policy\n",
        "\n",
        "result of thte function is referred as the \"action\", or $a$\n",
        "\n",
        "\n",
        "### Value-Based Learning: uses a critic network, Q function\n",
        "\n",
        "$$Q(s,a| \\pi^Q)$$\n",
        "\n",
        "### Learning Process\n",
        "\n",
        "1. Actor-Critic Architecture:\n",
        "- Policy is updated by the gradient of expected return\n",
        "- critic udpates value estiamtes by Bellman equation\n",
        "\n",
        "2. Experience Replay: store $(s,a,r,s^\\prime)$ in a replay buffer, random sampling these tuples.\n",
        "\n",
        "- $s$: the initial state, $a$: action taken, $r$: reward, $s'$: the resulting state\n",
        "\n",
        "3. Target Networks: udpated at a longer rate than the main network, 그냥 따로 저장하는 파라미터들 느낌, 극단적 변화 완화용\n",
        "\n",
        "- $ \\theta^{\\pi\\prime}$ , $ \\theta^{Q\\prime}$ are the parameters\n",
        "\n",
        "### Benefits of DDPG\n",
        "\n",
        "- Adaptive: Real-Time adjustments\n",
        "- Fine-Tuned Decisions: Continuous action space (무수히 많은 연속적 행위 공간에서 행위 선택가능)\n",
        "- Data-Driven Insights: 데이터 기반 조정?"
      ]
    },
    {
      "cell_type": "markdown",
      "metadata": {
        "id": "Zx3KsGRQi-Sp"
      },
      "source": [
        "# Code Toy Example\n"
      ]
    },
    {
      "cell_type": "markdown",
      "metadata": {
        "id": "txgxFFphi-Sp"
      },
      "source": [
        "### 1. Initialize Environment\n",
        "\n",
        "- $SalesPredictionEnv$: the market. price, discount, and sales as input"
      ]
    },
    {
      "cell_type": "code",
      "source": [
        "!pip install gymnasium"
      ],
      "metadata": {
        "colab": {
          "base_uri": "https://localhost:8080/"
        },
        "id": "nZ9mhuiQjB6l",
        "outputId": "381544e6-0052-439d-fa6e-e656bb102898"
      },
      "execution_count": null,
      "outputs": [
        {
          "output_type": "stream",
          "name": "stdout",
          "text": [
            "Collecting gymnasium\n",
            "  Downloading gymnasium-0.29.1-py3-none-any.whl.metadata (10 kB)\n",
            "Requirement already satisfied: numpy>=1.21.0 in /usr/local/lib/python3.10/dist-packages (from gymnasium) (1.26.4)\n",
            "Requirement already satisfied: cloudpickle>=1.2.0 in /usr/local/lib/python3.10/dist-packages (from gymnasium) (2.2.1)\n",
            "Requirement already satisfied: typing-extensions>=4.3.0 in /usr/local/lib/python3.10/dist-packages (from gymnasium) (4.12.2)\n",
            "Collecting farama-notifications>=0.0.1 (from gymnasium)\n",
            "  Downloading Farama_Notifications-0.0.4-py3-none-any.whl.metadata (558 bytes)\n",
            "Downloading gymnasium-0.29.1-py3-none-any.whl (953 kB)\n",
            "\u001b[2K   \u001b[90m━━━━━━━━━━━━━━━━━━━━━━━━━━━━━━━━━━━━━━━━\u001b[0m \u001b[32m953.9/953.9 kB\u001b[0m \u001b[31m12.6 MB/s\u001b[0m eta \u001b[36m0:00:00\u001b[0m\n",
            "\u001b[?25hDownloading Farama_Notifications-0.0.4-py3-none-any.whl (2.5 kB)\n",
            "Installing collected packages: farama-notifications, gymnasium\n",
            "Successfully installed farama-notifications-0.0.4 gymnasium-0.29.1\n"
          ]
        }
      ]
    },
    {
      "cell_type": "code",
      "source": [
        "!pip install stable-baselines3"
      ],
      "metadata": {
        "colab": {
          "base_uri": "https://localhost:8080/"
        },
        "id": "Gq1Qlo5IjLys",
        "outputId": "c3e15007-df6f-49e9-d5c0-af810d453730"
      },
      "execution_count": null,
      "outputs": [
        {
          "output_type": "stream",
          "name": "stdout",
          "text": [
            "Collecting stable-baselines3\n",
            "  Downloading stable_baselines3-2.3.2-py3-none-any.whl.metadata (5.1 kB)\n",
            "Requirement already satisfied: gymnasium<0.30,>=0.28.1 in /usr/local/lib/python3.10/dist-packages (from stable-baselines3) (0.29.1)\n",
            "Requirement already satisfied: numpy>=1.20 in /usr/local/lib/python3.10/dist-packages (from stable-baselines3) (1.26.4)\n",
            "Requirement already satisfied: torch>=1.13 in /usr/local/lib/python3.10/dist-packages (from stable-baselines3) (2.4.0+cu121)\n",
            "Requirement already satisfied: cloudpickle in /usr/local/lib/python3.10/dist-packages (from stable-baselines3) (2.2.1)\n",
            "Requirement already satisfied: pandas in /usr/local/lib/python3.10/dist-packages (from stable-baselines3) (2.1.4)\n",
            "Requirement already satisfied: matplotlib in /usr/local/lib/python3.10/dist-packages (from stable-baselines3) (3.7.1)\n",
            "Requirement already satisfied: typing-extensions>=4.3.0 in /usr/local/lib/python3.10/dist-packages (from gymnasium<0.30,>=0.28.1->stable-baselines3) (4.12.2)\n",
            "Requirement already satisfied: farama-notifications>=0.0.1 in /usr/local/lib/python3.10/dist-packages (from gymnasium<0.30,>=0.28.1->stable-baselines3) (0.0.4)\n",
            "Requirement already satisfied: filelock in /usr/local/lib/python3.10/dist-packages (from torch>=1.13->stable-baselines3) (3.15.4)\n",
            "Requirement already satisfied: sympy in /usr/local/lib/python3.10/dist-packages (from torch>=1.13->stable-baselines3) (1.13.2)\n",
            "Requirement already satisfied: networkx in /usr/local/lib/python3.10/dist-packages (from torch>=1.13->stable-baselines3) (3.3)\n",
            "Requirement already satisfied: jinja2 in /usr/local/lib/python3.10/dist-packages (from torch>=1.13->stable-baselines3) (3.1.4)\n",
            "Requirement already satisfied: fsspec in /usr/local/lib/python3.10/dist-packages (from torch>=1.13->stable-baselines3) (2024.6.1)\n",
            "Requirement already satisfied: contourpy>=1.0.1 in /usr/local/lib/python3.10/dist-packages (from matplotlib->stable-baselines3) (1.3.0)\n",
            "Requirement already satisfied: cycler>=0.10 in /usr/local/lib/python3.10/dist-packages (from matplotlib->stable-baselines3) (0.12.1)\n",
            "Requirement already satisfied: fonttools>=4.22.0 in /usr/local/lib/python3.10/dist-packages (from matplotlib->stable-baselines3) (4.53.1)\n",
            "Requirement already satisfied: kiwisolver>=1.0.1 in /usr/local/lib/python3.10/dist-packages (from matplotlib->stable-baselines3) (1.4.5)\n",
            "Requirement already satisfied: packaging>=20.0 in /usr/local/lib/python3.10/dist-packages (from matplotlib->stable-baselines3) (24.1)\n",
            "Requirement already satisfied: pillow>=6.2.0 in /usr/local/lib/python3.10/dist-packages (from matplotlib->stable-baselines3) (9.4.0)\n",
            "Requirement already satisfied: pyparsing>=2.3.1 in /usr/local/lib/python3.10/dist-packages (from matplotlib->stable-baselines3) (3.1.4)\n",
            "Requirement already satisfied: python-dateutil>=2.7 in /usr/local/lib/python3.10/dist-packages (from matplotlib->stable-baselines3) (2.8.2)\n",
            "Requirement already satisfied: pytz>=2020.1 in /usr/local/lib/python3.10/dist-packages (from pandas->stable-baselines3) (2024.1)\n",
            "Requirement already satisfied: tzdata>=2022.1 in /usr/local/lib/python3.10/dist-packages (from pandas->stable-baselines3) (2024.1)\n",
            "Requirement already satisfied: six>=1.5 in /usr/local/lib/python3.10/dist-packages (from python-dateutil>=2.7->matplotlib->stable-baselines3) (1.16.0)\n",
            "Requirement already satisfied: MarkupSafe>=2.0 in /usr/local/lib/python3.10/dist-packages (from jinja2->torch>=1.13->stable-baselines3) (2.1.5)\n",
            "Requirement already satisfied: mpmath<1.4,>=1.1.0 in /usr/local/lib/python3.10/dist-packages (from sympy->torch>=1.13->stable-baselines3) (1.3.0)\n",
            "Downloading stable_baselines3-2.3.2-py3-none-any.whl (182 kB)\n",
            "\u001b[2K   \u001b[90m━━━━━━━━━━━━━━━━━━━━━━━━━━━━━━━━━━━━━━━━\u001b[0m \u001b[32m182.3/182.3 kB\u001b[0m \u001b[31m4.1 MB/s\u001b[0m eta \u001b[36m0:00:00\u001b[0m\n",
            "\u001b[?25hInstalling collected packages: stable-baselines3\n",
            "Successfully installed stable-baselines3-2.3.2\n"
          ]
        }
      ]
    },
    {
      "cell_type": "code",
      "source": [
        "!pip install shap"
      ],
      "metadata": {
        "colab": {
          "base_uri": "https://localhost:8080/"
        },
        "id": "Tpyyx5nUjTF1",
        "outputId": "a29a3fc9-59e7-488d-ac32-0db3982ed347"
      },
      "execution_count": null,
      "outputs": [
        {
          "output_type": "stream",
          "name": "stderr",
          "text": [
            "/usr/local/lib/python3.10/dist-packages/ipykernel/ipkernel.py:283: DeprecationWarning: `should_run_async` will not call `transform_cell` automatically in the future. Please pass the result to `transformed_cell` argument and any exception that happen during thetransform in `preprocessing_exc_tuple` in IPython 7.17 and above.\n",
            "  and should_run_async(code)\n"
          ]
        },
        {
          "output_type": "stream",
          "name": "stdout",
          "text": [
            "Collecting shap\n",
            "  Downloading shap-0.46.0-cp310-cp310-manylinux_2_12_x86_64.manylinux2010_x86_64.manylinux_2_17_x86_64.manylinux2014_x86_64.whl.metadata (24 kB)\n",
            "Requirement already satisfied: numpy in /usr/local/lib/python3.10/dist-packages (from shap) (1.26.4)\n",
            "Requirement already satisfied: scipy in /usr/local/lib/python3.10/dist-packages (from shap) (1.13.1)\n",
            "Requirement already satisfied: scikit-learn in /usr/local/lib/python3.10/dist-packages (from shap) (1.3.2)\n",
            "Requirement already satisfied: pandas in /usr/local/lib/python3.10/dist-packages (from shap) (2.1.4)\n",
            "Requirement already satisfied: tqdm>=4.27.0 in /usr/local/lib/python3.10/dist-packages (from shap) (4.66.5)\n",
            "Requirement already satisfied: packaging>20.9 in /usr/local/lib/python3.10/dist-packages (from shap) (24.1)\n",
            "Collecting slicer==0.0.8 (from shap)\n",
            "  Downloading slicer-0.0.8-py3-none-any.whl.metadata (4.0 kB)\n",
            "Requirement already satisfied: numba in /usr/local/lib/python3.10/dist-packages (from shap) (0.60.0)\n",
            "Requirement already satisfied: cloudpickle in /usr/local/lib/python3.10/dist-packages (from shap) (2.2.1)\n",
            "Requirement already satisfied: llvmlite<0.44,>=0.43.0dev0 in /usr/local/lib/python3.10/dist-packages (from numba->shap) (0.43.0)\n",
            "Requirement already satisfied: python-dateutil>=2.8.2 in /usr/local/lib/python3.10/dist-packages (from pandas->shap) (2.8.2)\n",
            "Requirement already satisfied: pytz>=2020.1 in /usr/local/lib/python3.10/dist-packages (from pandas->shap) (2024.1)\n",
            "Requirement already satisfied: tzdata>=2022.1 in /usr/local/lib/python3.10/dist-packages (from pandas->shap) (2024.1)\n",
            "Requirement already satisfied: joblib>=1.1.1 in /usr/local/lib/python3.10/dist-packages (from scikit-learn->shap) (1.4.2)\n",
            "Requirement already satisfied: threadpoolctl>=2.0.0 in /usr/local/lib/python3.10/dist-packages (from scikit-learn->shap) (3.5.0)\n",
            "Requirement already satisfied: six>=1.5 in /usr/local/lib/python3.10/dist-packages (from python-dateutil>=2.8.2->pandas->shap) (1.16.0)\n",
            "Downloading shap-0.46.0-cp310-cp310-manylinux_2_12_x86_64.manylinux2010_x86_64.manylinux_2_17_x86_64.manylinux2014_x86_64.whl (540 kB)\n",
            "\u001b[2K   \u001b[90m━━━━━━━━━━━━━━━━━━━━━━━━━━━━━━━━━━━━━━━━\u001b[0m \u001b[32m540.1/540.1 kB\u001b[0m \u001b[31m13.3 MB/s\u001b[0m eta \u001b[36m0:00:00\u001b[0m\n",
            "\u001b[?25hDownloading slicer-0.0.8-py3-none-any.whl (15 kB)\n",
            "Installing collected packages: slicer, shap\n",
            "Successfully installed shap-0.46.0 slicer-0.0.8\n"
          ]
        }
      ]
    },
    {
      "cell_type": "code",
      "execution_count": null,
      "metadata": {
        "colab": {
          "base_uri": "https://localhost:8080/"
        },
        "id": "u_Cdtqb_i-Sq",
        "outputId": "57a272ac-325c-4bad-92d3-9836d378e96b"
      },
      "outputs": [
        {
          "output_type": "stream",
          "name": "stderr",
          "text": [
            "/usr/local/lib/python3.10/dist-packages/shap/plots/colors/_colorconv.py:819: DeprecationWarning: Converting `np.inexact` or `np.floating` to a dtype is deprecated. The current result is `float64` which is not strictly correct.\n",
            "  if np.issubdtype(dtype_in, np.dtype(dtype).type):\n"
          ]
        }
      ],
      "source": [
        "import gymnasium as gym\n",
        "from gymnasium import spaces\n",
        "import numpy as np\n",
        "import pandas as pd\n",
        "from stable_baselines3 import DDPG\n",
        "from stable_baselines3.common.env_checker import check_env\n",
        "import shap"
      ]
    },
    {
      "cell_type": "code",
      "execution_count": null,
      "metadata": {
        "id": "j9H366Lwi-Sq"
      },
      "outputs": [],
      "source": [
        "class SalesPredictionEnv(gym.Env):\n",
        "    def __init__(self, initial_price, initial_discount, true_sales_function):\n",
        "\n",
        "        # gym.Env의 변수들을 상속한다\n",
        "\n",
        "        super(SalesPredictionEnv, self).__init__()\n",
        "        self.initial_price = initial_price\n",
        "        self.initial_discount = initial_discount\n",
        "        self.true_sales_function = true_sales_function\n",
        "\n",
        "        # 영역을 Box라는 객체로 설정한다!\n",
        "        self.action_space = spaces.Box(low=-0.1, high=0.1, shape = (2,), dtype = np.float32)\n",
        "\n",
        "        # Observation space: current price, discount, and predicted sales\n",
        "        self.observation_space = spaces.Box(low=0, high=np.inf, shape=(3,), dtype=np.float32)\n",
        "\n",
        "        self.price = self.initial_price\n",
        "        self.discount = self.initial_discount\n",
        "        self.sales = self.true_sales_function(self.price, self.discount)\n",
        "        self.done = False\n",
        "\n",
        "    def reset(self, seed = None, options = None):\n",
        "        super().reset(seed=seed)\n",
        "        self.price = self.initial_price\n",
        "        self.discount = self.initial_discount\n",
        "        # 매출은 가격과 할인으로 정해진다\n",
        "        self.sales = self.true_sales_function(self.price, self.discount)\n",
        "        return np.array([self.price, self.discount, self.sales], dtype=np.float32), {}\n",
        "\n",
        "    def step(self, action):\n",
        "        # 행위는 가격과 할인을 조정하는 것으로 정의도니다.\n",
        "        self.price += action[0]\n",
        "        self.discount += action[1]\n",
        "\n",
        "        # 조정된 가격과 할인을 통해 또 매출을 구한다\n",
        "        new_sales = self.true_sales_function(self.price, self.discount)\n",
        "\n",
        "        # 보상이 매출 차이의 음수?\n",
        "        # 정해진 목표 매출, 하지만 환경이 변화!\n",
        "        reward = -abs(self.sales - new_sales)\n",
        "        self.sales = new_sales\n",
        "        self.done = False\n",
        "\n",
        "        return np.array([self.price, self.discount, self.sales], dtype = np.float32), reward, False, False, {}\n",
        "\n",
        "    def render(self, mode='human'):\n",
        "        print(f'Price: {self.price}, Discount: {self.discount}, Sales: {self.sales}')"
      ]
    },
    {
      "cell_type": "markdown",
      "metadata": {
        "id": "el1awmK4i-Sq"
      },
      "source": [
        "### True Sales Function\n",
        "\n",
        "- creates environment\n",
        "\n",
        "  - quadratic form indicatees non-linear relationship, moderate prie increses boost sales, excessive prices or discounts negative impact\n",
        "\n",
        "- this one is simple function, but we can create our own environment with historical data\n",
        "\n",
        "- RBF로 함수 생성?"
      ]
    },
    {
      "cell_type": "code",
      "execution_count": null,
      "metadata": {
        "id": "wl_WdM-wi-Sq"
      },
      "outputs": [],
      "source": [
        "def true_sales_function(price, discount):\n",
        "    return -0.5 * price ** 2 + price + 11 + 2 * discount"
      ]
    },
    {
      "cell_type": "markdown",
      "metadata": {
        "id": "fCazU5uGi-Sq"
      },
      "source": [
        "#### Environment and Model initialize"
      ]
    },
    {
      "cell_type": "code",
      "execution_count": null,
      "metadata": {
        "colab": {
          "base_uri": "https://localhost:8080/"
        },
        "id": "Q2Qz7-X9i-Sq",
        "outputId": "65a64159-cdfa-4c71-f15a-0b05cd0bea13"
      },
      "outputs": [
        {
          "output_type": "stream",
          "name": "stderr",
          "text": [
            "/usr/local/lib/python3.10/dist-packages/stable_baselines3/common/env_checker.py:453: UserWarning: We recommend you to use a symmetric and normalized Box action space (range=[-1, 1]) cf. https://stable-baselines3.readthedocs.io/en/master/guide/rl_tips.html\n",
            "  warnings.warn(\n"
          ]
        },
        {
          "output_type": "stream",
          "name": "stdout",
          "text": [
            "Using cpu device\n",
            "Wrapping the env with a `Monitor` wrapper\n",
            "Wrapping the env in a DummyVecEnv.\n"
          ]
        },
        {
          "output_type": "execute_result",
          "data": {
            "text/plain": [
              "<stable_baselines3.ddpg.ddpg.DDPG at 0x78047fdf3a30>"
            ]
          },
          "metadata": {},
          "execution_count": 17
        }
      ],
      "source": [
        "env = SalesPredictionEnv(initial_price = 5.0, initial_discount = 1.0, true_sales_function=true_sales_function)\n",
        "\n",
        "check_env(env)\n",
        "\n",
        "model = DDPG('MlpPolicy', env, verbose=1)\n",
        "model.learn(total_timesteps=10000)"
      ]
    },
    {
      "cell_type": "markdown",
      "metadata": {
        "id": "flF-EFrCi-Sr"
      },
      "source": [
        "## SHAP Analysis\n",
        "\n",
        "- quantifies the impact of each feature on predictions"
      ]
    },
    {
      "cell_type": "markdown",
      "metadata": {
        "id": "VOowE7G3i-Sr"
      },
      "source": [
        "### 1. Data Collection for SHAP: reset environment and collect $(s,a,r,s')$"
      ]
    },
    {
      "cell_type": "code",
      "execution_count": null,
      "metadata": {
        "colab": {
          "base_uri": "https://localhost:8080/"
        },
        "id": "rBBLMeZvi-Sr",
        "outputId": "ba6b193e-c8ad-4b80-8f78-b98c1c15bec2"
      },
      "outputs": [
        {
          "output_type": "stream",
          "name": "stdout",
          "text": [
            "Price: 4.899999998509884, Discount: 0.8999999985098839, Sales: 5.69500000283122\n",
            "Price: 4.799999997019768, Discount: 0.7999999970197678, Sales: 5.880000005364417\n",
            "Price: 4.699999995529652, Discount: 0.6999999955296516, Sales: 6.055000007599592\n",
            "Price: 4.5999999940395355, Discount: 0.5999999940395355, Sales: 6.220000009536744\n",
            "Price: 4.499999992549419, Discount: 0.4999999925494194, Sales: 6.375000011175871\n",
            "Price: 4.399999991059303, Discount: 0.3999999910593033, Sales: 6.5200000125169755\n",
            "Price: 4.299999989569187, Discount: 0.29999998956918716, Sales: 6.655000013560057\n",
            "Price: 4.199999988079071, Discount: 0.19999998807907104, Sales: 6.780000014305115\n",
            "Price: 4.099999986588955, Discount: 0.09999998658895493, Sales: 6.895000014752149\n",
            "Price: 3.999999985098839, Discount: -1.4901161193847656e-08, Sales: 7.000000014901161\n"
          ]
        }
      ],
      "source": [
        "obs, _ = env.reset()\n",
        "states = []\n",
        "actions = []\n",
        "\n",
        "for _ in range(10):\n",
        "    action, _states = model.predict(obs)\n",
        "    obs, rewards, terminated, truncated, _ = env.step(action)\n",
        "    env.render()\n",
        "    states.append(obs)\n",
        "    actions.append(action)\n",
        "\n",
        "states = np.array(states)"
      ]
    },
    {
      "cell_type": "markdown",
      "metadata": {
        "id": "zFmKRtpii-Sr"
      },
      "source": [
        "### SHAP Prediction Wrapper: wrapper function for formatting output"
      ]
    },
    {
      "cell_type": "code",
      "execution_count": null,
      "metadata": {
        "id": "Ws2rU6CXi-Sr"
      },
      "outputs": [],
      "source": [
        "def predict_wrapper(observations):\n",
        "    predictions = []\n",
        "    for obs in observations:\n",
        "        action, _states = model.predict(obs)\n",
        "        predictions.append(action.flatten())\n",
        "    return np.array(predictions)"
      ]
    },
    {
      "cell_type": "markdown",
      "metadata": {
        "id": "Z9FDO6Dhi-Sr"
      },
      "source": [
        "### Predictions DataFrame: create df and store predictions to excel"
      ]
    },
    {
      "cell_type": "code",
      "execution_count": null,
      "metadata": {
        "colab": {
          "base_uri": "https://localhost:8080/"
        },
        "id": "5_4GChfoi-Sr",
        "outputId": "97711b8a-ef76-4401-dca8-32d85098093c"
      },
      "outputs": [
        {
          "output_type": "stream",
          "name": "stdout",
          "text": [
            "   ID  price      discount  sales  predicted_action_0  predicted_action_1\n",
            "0   0    4.9  9.000000e-01  5.695                -0.1                -0.1\n",
            "1   1    4.8  8.000000e-01  5.880                -0.1                -0.1\n",
            "2   2    4.7  7.000000e-01  6.055                -0.1                -0.1\n",
            "3   3    4.6  6.000000e-01  6.220                -0.1                -0.1\n",
            "4   4    4.5  5.000000e-01  6.375                -0.1                -0.1\n",
            "5   5    4.4  4.000000e-01  6.520                -0.1                -0.1\n",
            "6   6    4.3  3.000000e-01  6.655                -0.1                -0.1\n",
            "7   7    4.2  2.000000e-01  6.780                -0.1                -0.1\n",
            "8   8    4.1  9.999999e-02  6.895                -0.1                -0.1\n",
            "9   9    4.0 -1.490116e-08  7.000                -0.1                -0.1\n"
          ]
        }
      ],
      "source": [
        "predictions = {\n",
        "    'ID': list(range(len(states))),\n",
        "    'price': states[:,0],\n",
        "    'discount': states[:,1],\n",
        "    'sales': states[:,2],\n",
        "    'predicted_action_0': [None] * len(states),\n",
        "    'predicted_action_1': [None] * len(states)\n",
        "}\n",
        "\n",
        "for idx, state in enumerate(states):\n",
        "    action, _states = model.predict(state)\n",
        "    predictions['predicted_action_0'][idx] = action[0]\n",
        "    predictions['predicted_action_1'][idx] = action[1]\n",
        "\n",
        "predictions_df = pd.DataFrame(predictions)\n",
        "predictions_df.to_excel(rf\"/content/sample_dataRL_predictions.xlsx\", index = False)\n",
        "print(predictions_df.head(10))"
      ]
    },
    {
      "cell_type": "markdown",
      "metadata": {
        "id": "O9AD8_7li-Sr"
      },
      "source": [
        "### SHAP Explainer and Visualization: SHAP to analyze"
      ]
    },
    {
      "cell_type": "code",
      "execution_count": null,
      "metadata": {
        "colab": {
          "base_uri": "https://localhost:8080/",
          "height": 655
        },
        "id": "lr8jdq0Bi-Sr",
        "outputId": "a0b9446e-1cf7-4db0-ff59-67c1b89cecb0"
      },
      "outputs": [
        {
          "output_type": "stream",
          "name": "stderr",
          "text": [
            "/usr/local/lib/python3.10/dist-packages/ipykernel/ipkernel.py:283: DeprecationWarning: `should_run_async` will not call `transform_cell` automatically in the future. Please pass the result to `transformed_cell` argument and any exception that happen during thetransform in `preprocessing_exc_tuple` in IPython 7.17 and above.\n",
            "  and should_run_async(code)\n"
          ]
        },
        {
          "output_type": "display_data",
          "data": {
            "text/plain": [
              "<Figure size 800x270 with 2 Axes>"
            ],
            "image/png": "[encoded data removed]"
          },
          "metadata": {}
        },
        {
          "output_type": "display_data",
          "data": {
            "text/plain": [
              "<Figure size 800x300 with 1 Axes>"
            ],
            "image/png": "[encoded data removed]"
          },
          "metadata": {}
        }
      ],
      "source": [
        "explainer = shap.Explainer(predict_wrapper, states)\n",
        "shap_values = explainer(states)\n",
        "\n",
        "shap_values_price = shap_values[...,0]\n",
        "\n",
        "shap.plots.beeswarm(shap_values_price)\n",
        "shap.plots.bar(shap_values_price[0])"
      ]
    },
    {
      "cell_type": "markdown",
      "metadata": {
        "id": "hK6ZoAZbi-Sr"
      },
      "source": [
        "### Extract the top influential features"
      ]
    },
    {
      "cell_type": "code",
      "execution_count": null,
      "metadata": {
        "colab": {
          "base_uri": "https://localhost:8080/"
        },
        "id": "uIkl1kTCi-Sr",
        "outputId": "fcda6d59-200f-43fe-9387-f920de2f03c1"
      },
      "outputs": [
        {
          "output_type": "stream",
          "name": "stdout",
          "text": [
            "   ID  price      discount  sales top_feature1 top_feature2   importance1  \\\n",
            "0   0    4.9  9.000000e-01  5.695     discount        price  1.040834e-17   \n",
            "1   1    4.8  8.000000e-01  5.880     discount        price  1.040834e-17   \n",
            "2   2    4.7  7.000000e-01  6.055     discount        price  1.040834e-17   \n",
            "3   3    4.6  6.000000e-01  6.220     discount        price  1.040834e-17   \n",
            "4   4    4.5  5.000000e-01  6.375     discount        price  1.040834e-17   \n",
            "5   5    4.4  4.000000e-01  6.520     discount        price  1.040834e-17   \n",
            "6   6    4.3  3.000000e-01  6.655     discount        price  1.040834e-17   \n",
            "7   7    4.2  2.000000e-01  6.780     discount        price  1.040834e-17   \n",
            "8   8    4.1  9.999999e-02  6.895     discount        price  1.040834e-17   \n",
            "9   9    4.0 -1.490116e-08  7.000     discount        price  1.040834e-17   \n",
            "\n",
            "    importance2  \n",
            "0 -6.938894e-18  \n",
            "1 -6.938894e-18  \n",
            "2 -6.938894e-18  \n",
            "3 -6.938894e-18  \n",
            "4 -6.938894e-18  \n",
            "5 -6.938894e-18  \n",
            "6 -6.938894e-18  \n",
            "7 -6.938894e-18  \n",
            "8 -6.938894e-18  \n",
            "9 -6.938894e-18  \n"
          ]
        },
        {
          "output_type": "stream",
          "name": "stderr",
          "text": [
            "/usr/local/lib/python3.10/dist-packages/ipykernel/ipkernel.py:283: DeprecationWarning: `should_run_async` will not call `transform_cell` automatically in the future. Please pass the result to `transformed_cell` argument and any exception that happen during thetransform in `preprocessing_exc_tuple` in IPython 7.17 and above.\n",
            "  and should_run_async(code)\n"
          ]
        }
      ],
      "source": [
        "data = {\n",
        "    'ID': list(range(len(states))),\n",
        "    'price': states[:,0],\n",
        "    'discount': states[:,1],\n",
        "    'sales': states[:,2],\n",
        "    'top_feature1': [None] * len(states),\n",
        "    'top_feature2': [None] * len(states),\n",
        "    'importance1': [None] * len(states),\n",
        "    'importance2': [None] * len(states)\n",
        "}\n",
        "\n",
        "features = ['price', 'discount', 'sales']\n",
        "\n",
        "for i in range(len(states)):\n",
        "    sorted_indices = np.argsort(-np.abs(shap_values.values[i][:,0]))\n",
        "    data['top_feature1'][i] = features[sorted_indices[0]]\n",
        "    data['importance1'][i] = shap_values.values[i][sorted_indices[0], 0]\n",
        "\n",
        "    if len(sorted_indices) > 1:\n",
        "        data['top_feature2'][i] = features[sorted_indices[1]]\n",
        "        data['importance2'][i] = shap_values.values[i][sorted_indices[1], 0]\n",
        "\n",
        "reason_df = pd.DataFrame(data)\n",
        "print(reason_df.head(10))"
      ]
    }
  ],
  "metadata": {
    "kernelspec": {
      "display_name": "Python 3",
      "language": "python",
      "name": "python3"
    },
    "language_info": {
      "codemirror_mode": {
        "name": "ipython",
        "version": 3
      },
      "file_extension": ".py",
      "mimetype": "text/x-python",
      "name": "python",
      "nbconvert_exporter": "python",
      "pygments_lexer": "ipython3",
      "version": "3.12.5"
    },
    "colab": {
      "provenance": []
    }
  },
  "nbformat": 4,
  "nbformat_minor": 0
}